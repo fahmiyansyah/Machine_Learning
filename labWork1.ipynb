{
 "cells": [
  {
   "cell_type": "code",
   "execution_count": 3,
   "metadata": {},
   "outputs": [],
   "source": [
    "import tensorflow as tf\n",
    "\n",
    "# Allow GPU memory growth\n",
    "physical_devices = tf.config.list_physical_devices('GPU')\n",
    "if len(physical_devices) > 0:\n",
    "    tf.config.experimental.set_memory_growth(physical_devices[0], True)\n"
   ]
  },
  {
   "cell_type": "code",
   "execution_count": 4,
   "metadata": {},
   "outputs": [],
   "source": [
    "import tensorflow as tf\n",
    "from keras.preprocessing.image import ImageDataGenerator"
   ]
  },
  {
   "cell_type": "code",
   "execution_count": 6,
   "metadata": {},
   "outputs": [
    {
     "name": "stdout",
     "output_type": "stream",
     "text": [
      "Found 8000 images belonging to 2 classes.\n"
     ]
    }
   ],
   "source": [
    "train_datagen = ImageDataGenerator(rescale = 1./255,\n",
    "                                   shear_range = 0.2,\n",
    "                                   zoom_range = 0.2,\n",
    "                                   horizontal_flip = True)\n",
    "training_set = train_datagen.flow_from_directory('/Users/fahmiyansyah/Polinema/Grade3/Semester 3/Machine Learning/Machine_Learning/dataset/training_set',\n",
    "                                                 target_size = (64, 64),\n",
    "                                                 batch_size = 32,\n",
    "                                                 class_mode = 'binary')"
   ]
  },
  {
   "cell_type": "code",
   "execution_count": 8,
   "metadata": {},
   "outputs": [
    {
     "name": "stdout",
     "output_type": "stream",
     "text": [
      "Found 2000 images belonging to 2 classes.\n"
     ]
    }
   ],
   "source": [
    "test_datagen = ImageDataGenerator(rescale = 1./255)\n",
    "test_set = test_datagen.flow_from_directory('/Users/fahmiyansyah/Polinema/Grade3/Semester 3/Machine Learning/Machine_Learning/dataset/test_set',\n",
    "                                            target_size = (64, 64),\n",
    "                                            batch_size = 32,\n",
    "                                            class_mode = 'binary')"
   ]
  },
  {
   "cell_type": "code",
   "execution_count": 9,
   "metadata": {},
   "outputs": [],
   "source": [
    "cnn = tf.keras.models.Sequential()"
   ]
  },
  {
   "cell_type": "code",
   "execution_count": 10,
   "metadata": {},
   "outputs": [],
   "source": [
    "cnn.add(tf.keras.layers.Conv2D(filters=32, kernel_size=3, activation='relu', input_shape=[64, 64, 3]))"
   ]
  },
  {
   "cell_type": "code",
   "execution_count": 11,
   "metadata": {},
   "outputs": [],
   "source": [
    "cnn.add(tf.keras.layers.MaxPool2D(pool_size=2, strides=2))"
   ]
  },
  {
   "cell_type": "code",
   "execution_count": 12,
   "metadata": {},
   "outputs": [],
   "source": [
    "cnn.add(tf.keras.layers.Conv2D(filters=32, kernel_size=3, activation='relu'))\n",
    "cnn.add(tf.keras.layers.MaxPool2D(pool_size=2, strides=2))"
   ]
  },
  {
   "cell_type": "code",
   "execution_count": 13,
   "metadata": {},
   "outputs": [],
   "source": [
    "cnn.add(tf.keras.layers.Flatten())"
   ]
  },
  {
   "cell_type": "code",
   "execution_count": 14,
   "metadata": {},
   "outputs": [],
   "source": [
    "cnn.add(tf.keras.layers.Dense(units=128, activation='relu'))"
   ]
  },
  {
   "cell_type": "code",
   "execution_count": 15,
   "metadata": {},
   "outputs": [],
   "source": [
    "cnn.add(tf.keras.layers.Dense(units=1, activation='sigmoid'))"
   ]
  },
  {
   "cell_type": "code",
   "execution_count": 16,
   "metadata": {},
   "outputs": [],
   "source": [
    "cnn.compile(optimizer = 'adam', loss = 'binary_crossentropy', metrics = ['accuracy'])"
   ]
  },
  {
   "cell_type": "code",
   "execution_count": 30,
   "metadata": {},
   "outputs": [
    {
     "name": "stdout",
     "output_type": "stream",
     "text": [
      "Epoch 1/60\n",
      "250/250 [==============================] - 27s 109ms/step - loss: 0.0634 - accuracy: 0.9774 - val_loss: 1.0852 - val_accuracy: 0.7755\n",
      "Epoch 2/60\n",
      "250/250 [==============================] - 27s 108ms/step - loss: 0.0344 - accuracy: 0.9884 - val_loss: 1.1703 - val_accuracy: 0.7700\n",
      "Epoch 3/60\n",
      "250/250 [==============================] - 27s 109ms/step - loss: 0.0622 - accuracy: 0.9784 - val_loss: 1.0657 - val_accuracy: 0.7770\n",
      "Epoch 4/60\n",
      "250/250 [==============================] - 27s 108ms/step - loss: 0.0499 - accuracy: 0.9833 - val_loss: 1.0980 - val_accuracy: 0.7870\n",
      "Epoch 5/60\n",
      "250/250 [==============================] - 27s 110ms/step - loss: 0.0522 - accuracy: 0.9819 - val_loss: 1.0830 - val_accuracy: 0.7865\n",
      "Epoch 6/60\n",
      "250/250 [==============================] - 27s 109ms/step - loss: 0.0456 - accuracy: 0.9829 - val_loss: 1.2041 - val_accuracy: 0.7745\n",
      "Epoch 7/60\n",
      "250/250 [==============================] - 27s 110ms/step - loss: 0.0494 - accuracy: 0.9835 - val_loss: 1.1737 - val_accuracy: 0.7780\n",
      "Epoch 8/60\n",
      "250/250 [==============================] - 28s 110ms/step - loss: 0.0588 - accuracy: 0.9805 - val_loss: 1.1187 - val_accuracy: 0.7820\n",
      "Epoch 9/60\n",
      "250/250 [==============================] - 27s 109ms/step - loss: 0.0441 - accuracy: 0.9852 - val_loss: 1.2910 - val_accuracy: 0.7790\n",
      "Epoch 10/60\n",
      "250/250 [==============================] - 28s 111ms/step - loss: 0.0413 - accuracy: 0.9850 - val_loss: 1.1946 - val_accuracy: 0.7845\n",
      "Epoch 11/60\n",
      "250/250 [==============================] - 27s 109ms/step - loss: 0.0496 - accuracy: 0.9826 - val_loss: 1.1301 - val_accuracy: 0.7870\n",
      "Epoch 12/60\n",
      "250/250 [==============================] - 27s 109ms/step - loss: 0.0483 - accuracy: 0.9836 - val_loss: 1.2857 - val_accuracy: 0.7745\n",
      "Epoch 13/60\n",
      "250/250 [==============================] - 27s 108ms/step - loss: 0.0445 - accuracy: 0.9844 - val_loss: 1.0757 - val_accuracy: 0.7920\n",
      "Epoch 14/60\n",
      "250/250 [==============================] - 29s 116ms/step - loss: 0.0528 - accuracy: 0.9812 - val_loss: 1.2006 - val_accuracy: 0.7845\n",
      "Epoch 15/60\n",
      "250/250 [==============================] - 176s 706ms/step - loss: 0.0384 - accuracy: 0.9868 - val_loss: 1.1574 - val_accuracy: 0.7785\n",
      "Epoch 16/60\n",
      "250/250 [==============================] - 29s 116ms/step - loss: 0.0443 - accuracy: 0.9837 - val_loss: 1.1694 - val_accuracy: 0.7745\n",
      "Epoch 17/60\n",
      "250/250 [==============================] - 26s 105ms/step - loss: 0.0396 - accuracy: 0.9876 - val_loss: 1.1685 - val_accuracy: 0.7875\n",
      "Epoch 18/60\n",
      "250/250 [==============================] - 29s 115ms/step - loss: 0.0444 - accuracy: 0.9861 - val_loss: 1.1682 - val_accuracy: 0.7800\n",
      "Epoch 19/60\n",
      "250/250 [==============================] - 27s 108ms/step - loss: 0.0440 - accuracy: 0.9851 - val_loss: 1.2012 - val_accuracy: 0.7870\n",
      "Epoch 20/60\n",
      "250/250 [==============================] - 27s 108ms/step - loss: 0.0462 - accuracy: 0.9847 - val_loss: 1.1927 - val_accuracy: 0.7835\n",
      "Epoch 21/60\n",
      "250/250 [==============================] - 28s 111ms/step - loss: 0.0416 - accuracy: 0.9861 - val_loss: 1.2250 - val_accuracy: 0.7800\n",
      "Epoch 22/60\n",
      "250/250 [==============================] - 27s 109ms/step - loss: 0.0530 - accuracy: 0.9816 - val_loss: 1.2476 - val_accuracy: 0.7785\n",
      "Epoch 23/60\n",
      "250/250 [==============================] - 27s 109ms/step - loss: 0.0410 - accuracy: 0.9859 - val_loss: 1.1913 - val_accuracy: 0.7800\n",
      "Epoch 24/60\n",
      "250/250 [==============================] - 28s 111ms/step - loss: 0.0363 - accuracy: 0.9870 - val_loss: 1.3060 - val_accuracy: 0.7745\n",
      "Epoch 25/60\n",
      "250/250 [==============================] - 27s 110ms/step - loss: 0.0428 - accuracy: 0.9849 - val_loss: 1.4103 - val_accuracy: 0.7775\n",
      "Epoch 26/60\n",
      "250/250 [==============================] - 28s 110ms/step - loss: 0.0386 - accuracy: 0.9849 - val_loss: 1.3389 - val_accuracy: 0.7755\n",
      "Epoch 27/60\n",
      "250/250 [==============================] - 27s 110ms/step - loss: 0.0347 - accuracy: 0.9885 - val_loss: 1.1710 - val_accuracy: 0.7805\n",
      "Epoch 28/60\n",
      "250/250 [==============================] - 27s 109ms/step - loss: 0.0326 - accuracy: 0.9881 - val_loss: 1.2189 - val_accuracy: 0.7905\n",
      "Epoch 29/60\n",
      "250/250 [==============================] - 27s 108ms/step - loss: 0.0336 - accuracy: 0.9883 - val_loss: 1.3876 - val_accuracy: 0.7770\n",
      "Epoch 30/60\n",
      "250/250 [==============================] - 27s 109ms/step - loss: 0.0363 - accuracy: 0.9868 - val_loss: 1.1729 - val_accuracy: 0.7810\n",
      "Epoch 31/60\n",
      "250/250 [==============================] - 27s 110ms/step - loss: 0.0346 - accuracy: 0.9876 - val_loss: 1.3609 - val_accuracy: 0.7745\n",
      "Epoch 32/60\n",
      "250/250 [==============================] - 27s 108ms/step - loss: 0.0326 - accuracy: 0.9894 - val_loss: 1.4799 - val_accuracy: 0.7715\n",
      "Epoch 33/60\n",
      "250/250 [==============================] - 31s 123ms/step - loss: 0.0367 - accuracy: 0.9862 - val_loss: 1.3516 - val_accuracy: 0.7800\n",
      "Epoch 34/60\n",
      "250/250 [==============================] - 27s 108ms/step - loss: 0.0357 - accuracy: 0.9887 - val_loss: 1.3543 - val_accuracy: 0.7820\n",
      "Epoch 35/60\n",
      "250/250 [==============================] - 27s 108ms/step - loss: 0.0381 - accuracy: 0.9861 - val_loss: 1.3704 - val_accuracy: 0.7810\n",
      "Epoch 36/60\n",
      "250/250 [==============================] - 28s 111ms/step - loss: 0.0265 - accuracy: 0.9911 - val_loss: 1.4609 - val_accuracy: 0.7660\n",
      "Epoch 37/60\n",
      "250/250 [==============================] - 28s 110ms/step - loss: 0.0319 - accuracy: 0.9885 - val_loss: 1.4989 - val_accuracy: 0.7775\n",
      "Epoch 38/60\n",
      "250/250 [==============================] - 28s 111ms/step - loss: 0.0399 - accuracy: 0.9864 - val_loss: 1.3745 - val_accuracy: 0.7745\n",
      "Epoch 39/60\n",
      "250/250 [==============================] - 27s 109ms/step - loss: 0.0390 - accuracy: 0.9876 - val_loss: 1.4016 - val_accuracy: 0.7815\n",
      "Epoch 40/60\n",
      "250/250 [==============================] - 27s 109ms/step - loss: 0.0333 - accuracy: 0.9890 - val_loss: 1.5373 - val_accuracy: 0.7800\n",
      "Epoch 41/60\n",
      "250/250 [==============================] - 27s 109ms/step - loss: 0.0377 - accuracy: 0.9877 - val_loss: 1.4642 - val_accuracy: 0.7830\n",
      "Epoch 42/60\n",
      "250/250 [==============================] - 27s 109ms/step - loss: 0.0364 - accuracy: 0.9875 - val_loss: 1.3722 - val_accuracy: 0.7835\n",
      "Epoch 43/60\n",
      "250/250 [==============================] - 28s 110ms/step - loss: 0.0306 - accuracy: 0.9899 - val_loss: 1.3656 - val_accuracy: 0.7900\n",
      "Epoch 44/60\n",
      "250/250 [==============================] - 28s 112ms/step - loss: 0.0342 - accuracy: 0.9884 - val_loss: 1.3372 - val_accuracy: 0.7840\n",
      "Epoch 45/60\n",
      "250/250 [==============================] - 34s 136ms/step - loss: 0.0275 - accuracy: 0.9908 - val_loss: 1.3896 - val_accuracy: 0.7870\n",
      "Epoch 46/60\n",
      "250/250 [==============================] - 27s 109ms/step - loss: 0.0339 - accuracy: 0.9893 - val_loss: 1.3732 - val_accuracy: 0.7895\n",
      "Epoch 47/60\n",
      "250/250 [==============================] - 27s 109ms/step - loss: 0.0345 - accuracy: 0.9894 - val_loss: 1.3728 - val_accuracy: 0.7985\n",
      "Epoch 48/60\n",
      "250/250 [==============================] - 28s 110ms/step - loss: 0.0283 - accuracy: 0.9909 - val_loss: 1.3885 - val_accuracy: 0.7870\n",
      "Epoch 49/60\n",
      "250/250 [==============================] - 27s 109ms/step - loss: 0.0278 - accuracy: 0.9901 - val_loss: 1.5426 - val_accuracy: 0.7765\n",
      "Epoch 50/60\n",
      "250/250 [==============================] - 28s 111ms/step - loss: 0.0320 - accuracy: 0.9904 - val_loss: 1.5172 - val_accuracy: 0.7625\n",
      "Epoch 51/60\n",
      "250/250 [==============================] - 28s 111ms/step - loss: 0.0264 - accuracy: 0.9918 - val_loss: 1.4691 - val_accuracy: 0.7805\n",
      "Epoch 52/60\n",
      "250/250 [==============================] - 27s 110ms/step - loss: 0.0278 - accuracy: 0.9921 - val_loss: 1.4853 - val_accuracy: 0.7795\n",
      "Epoch 53/60\n",
      "250/250 [==============================] - 28s 111ms/step - loss: 0.0242 - accuracy: 0.9921 - val_loss: 1.5502 - val_accuracy: 0.7890\n",
      "Epoch 54/60\n",
      "250/250 [==============================] - 27s 110ms/step - loss: 0.0252 - accuracy: 0.9914 - val_loss: 1.5058 - val_accuracy: 0.7865\n",
      "Epoch 55/60\n",
      "250/250 [==============================] - 28s 112ms/step - loss: 0.0447 - accuracy: 0.9847 - val_loss: 1.6783 - val_accuracy: 0.7705\n",
      "Epoch 56/60\n",
      "250/250 [==============================] - 67s 268ms/step - loss: 0.0248 - accuracy: 0.9925 - val_loss: 1.4509 - val_accuracy: 0.7800\n",
      "Epoch 57/60\n",
      "250/250 [==============================] - 27s 107ms/step - loss: 0.0257 - accuracy: 0.9914 - val_loss: 1.6406 - val_accuracy: 0.7705\n",
      "Epoch 58/60\n",
      "250/250 [==============================] - 27s 108ms/step - loss: 0.0236 - accuracy: 0.9912 - val_loss: 1.5845 - val_accuracy: 0.7820\n",
      "Epoch 59/60\n",
      "250/250 [==============================] - 27s 109ms/step - loss: 0.0271 - accuracy: 0.9902 - val_loss: 1.6156 - val_accuracy: 0.7795\n",
      "Epoch 60/60\n",
      "250/250 [==============================] - 27s 110ms/step - loss: 0.0254 - accuracy: 0.9919 - val_loss: 1.5294 - val_accuracy: 0.7840\n"
     ]
    },
    {
     "data": {
      "text/plain": [
       "<keras.src.callbacks.History at 0x29bc1b5d0>"
      ]
     },
     "execution_count": 30,
     "metadata": {},
     "output_type": "execute_result"
    }
   ],
   "source": [
    "cnn.fit(x = training_set, validation_data = test_set, epochs = 60)"
   ]
  },
  {
   "cell_type": "code",
   "execution_count": 32,
   "metadata": {},
   "outputs": [
    {
     "name": "stdout",
     "output_type": "stream",
     "text": [
      "1/1 [==============================] - 0s 57ms/step\n",
      "dog\n"
     ]
    }
   ],
   "source": [
    "import numpy as np\n",
    "from keras.preprocessing import image\n",
    "test_image = image.load_img('/Users/fahmiyansyah/Polinema/Grade3/Semester 3/Machine Learning/Machine_Learning/dataset/single_prediction/cat_or_dog_1.jpg', target_size = (64, 64))\n",
    "test_image = image.img_to_array(test_image)\n",
    "test_image = np.expand_dims(test_image, axis = 0)\n",
    "result = cnn.predict(test_image)\n",
    "training_set.class_indices\n",
    "if result[0][0] == 1:\n",
    "  prediction = 'dog'\n",
    "else:\n",
    "  prediction = 'cat'\n",
    "  \n",
    "print(prediction)"
   ]
  }
 ],
 "metadata": {
  "kernelspec": {
   "display_name": "Python 3",
   "language": "python",
   "name": "python3"
  },
  "language_info": {
   "codemirror_mode": {
    "name": "ipython",
    "version": 3
   },
   "file_extension": ".py",
   "mimetype": "text/x-python",
   "name": "python",
   "nbconvert_exporter": "python",
   "pygments_lexer": "ipython3",
   "version": "3.11.4"
  }
 },
 "nbformat": 4,
 "nbformat_minor": 2
}
